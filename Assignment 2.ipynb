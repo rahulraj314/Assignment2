{
 "cells": [
  {
   "cell_type": "code",
   "execution_count": 13,
   "metadata": {},
   "outputs": [
    {
     "name": "stdout",
     "output_type": "stream",
     "text": [
      "*\n",
      "**\n",
      "***\n",
      "****\n",
      "*****\n",
      "****\n",
      "***\n",
      "**\n",
      "*\n"
     ]
    }
   ],
   "source": [
    "'''Assignment 2 Question 1'''\n",
    "for i in range(0,5):\n",
    "    for j in range(0,i):\n",
    "        print(\"*\",end=\"\")\n",
    "    print(\"*\")\n",
    "    \n",
    "for i in range(3,-1,-1):\n",
    "    for j in range(0,i):\n",
    "        print(\"*\",end=\"\")\n",
    "    print(\"*\")\n",
    "    "
   ]
  },
  {
   "cell_type": "code",
   "execution_count": 14,
   "metadata": {},
   "outputs": [
    {
     "name": "stdout",
     "output_type": "stream",
     "text": [
      "Enter the word to be reversed ineuron\n",
      "norueni\n"
     ]
    }
   ],
   "source": [
    "'''Question 2 for Assignment 2'''\n",
    "new=''\n",
    "x=input(\"Enter the word to be reversed \")\n",
    "len_x=len(x)\n",
    "\n",
    "for a in range(len_x-1,-1,-1):\n",
    "    new=new+x[a]\n",
    "\n",
    "print(new)"
   ]
  },
  {
   "cell_type": "code",
   "execution_count": null,
   "metadata": {},
   "outputs": [],
   "source": []
  }
 ],
 "metadata": {
  "kernelspec": {
   "display_name": "Python 3",
   "language": "python",
   "name": "python3"
  },
  "language_info": {
   "codemirror_mode": {
    "name": "ipython",
    "version": 3
   },
   "file_extension": ".py",
   "mimetype": "text/x-python",
   "name": "python",
   "nbconvert_exporter": "python",
   "pygments_lexer": "ipython3",
   "version": "3.8.3"
  }
 },
 "nbformat": 4,
 "nbformat_minor": 4
}
